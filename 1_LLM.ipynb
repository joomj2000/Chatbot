{
  "nbformat": 4,
  "nbformat_minor": 0,
  "metadata": {
    "colab": {
      "provenance": [],
      "authorship_tag": "ABX9TyP90bo3eB55OLbbXr8Sxhd4",
      "include_colab_link": true
    },
    "kernelspec": {
      "name": "python3",
      "display_name": "Python 3"
    },
    "language_info": {
      "name": "python"
    }
  },
  "cells": [
    {
      "cell_type": "markdown",
      "metadata": {
        "id": "view-in-github",
        "colab_type": "text"
      },
      "source": [
        "<a href=\"https://colab.research.google.com/github/joomj2000/Chatbot/blob/main/1_LLM.ipynb\" target=\"_parent\"><img src=\"https://colab.research.google.com/assets/colab-badge.svg\" alt=\"Open In Colab\"/></a>"
      ]
    },
    {
      "cell_type": "code",
      "execution_count": 3,
      "metadata": {
        "colab": {
          "base_uri": "https://localhost:8080/"
        },
        "id": "img_LqcdIcxo",
        "outputId": "ff087caa-4c49-47cc-cbe0-316807a048c8"
      },
      "outputs": [
        {
          "output_type": "stream",
          "name": "stdout",
          "text": [
            "Requirement already satisfied: openai in /usr/local/lib/python3.10/dist-packages (1.39.0)\n",
            "Requirement already satisfied: anyio<5,>=3.5.0 in /usr/local/lib/python3.10/dist-packages (from openai) (3.7.1)\n",
            "Requirement already satisfied: distro<2,>=1.7.0 in /usr/lib/python3/dist-packages (from openai) (1.7.0)\n",
            "Requirement already satisfied: httpx<1,>=0.23.0 in /usr/local/lib/python3.10/dist-packages (from openai) (0.27.0)\n",
            "Requirement already satisfied: pydantic<3,>=1.9.0 in /usr/local/lib/python3.10/dist-packages (from openai) (2.8.2)\n",
            "Requirement already satisfied: sniffio in /usr/local/lib/python3.10/dist-packages (from openai) (1.3.1)\n",
            "Requirement already satisfied: tqdm>4 in /usr/local/lib/python3.10/dist-packages (from openai) (4.66.4)\n",
            "Requirement already satisfied: typing-extensions<5,>=4.7 in /usr/local/lib/python3.10/dist-packages (from openai) (4.12.2)\n",
            "Requirement already satisfied: idna>=2.8 in /usr/local/lib/python3.10/dist-packages (from anyio<5,>=3.5.0->openai) (3.7)\n",
            "Requirement already satisfied: exceptiongroup in /usr/local/lib/python3.10/dist-packages (from anyio<5,>=3.5.0->openai) (1.2.2)\n",
            "Requirement already satisfied: certifi in /usr/local/lib/python3.10/dist-packages (from httpx<1,>=0.23.0->openai) (2024.7.4)\n",
            "Requirement already satisfied: httpcore==1.* in /usr/local/lib/python3.10/dist-packages (from httpx<1,>=0.23.0->openai) (1.0.5)\n",
            "Requirement already satisfied: h11<0.15,>=0.13 in /usr/local/lib/python3.10/dist-packages (from httpcore==1.*->httpx<1,>=0.23.0->openai) (0.14.0)\n",
            "Requirement already satisfied: annotated-types>=0.4.0 in /usr/local/lib/python3.10/dist-packages (from pydantic<3,>=1.9.0->openai) (0.7.0)\n",
            "Requirement already satisfied: pydantic-core==2.20.1 in /usr/local/lib/python3.10/dist-packages (from pydantic<3,>=1.9.0->openai) (2.20.1)\n",
            "Requirement already satisfied: langchain in /usr/local/lib/python3.10/dist-packages (0.2.12)\n",
            "Requirement already satisfied: PyYAML>=5.3 in /usr/local/lib/python3.10/dist-packages (from langchain) (6.0.1)\n",
            "Requirement already satisfied: SQLAlchemy<3,>=1.4 in /usr/local/lib/python3.10/dist-packages (from langchain) (2.0.31)\n",
            "Requirement already satisfied: aiohttp<4.0.0,>=3.8.3 in /usr/local/lib/python3.10/dist-packages (from langchain) (3.10.0)\n",
            "Requirement already satisfied: async-timeout<5.0.0,>=4.0.0 in /usr/local/lib/python3.10/dist-packages (from langchain) (4.0.3)\n",
            "Requirement already satisfied: langchain-core<0.3.0,>=0.2.27 in /usr/local/lib/python3.10/dist-packages (from langchain) (0.2.28)\n",
            "Requirement already satisfied: langchain-text-splitters<0.3.0,>=0.2.0 in /usr/local/lib/python3.10/dist-packages (from langchain) (0.2.2)\n",
            "Requirement already satisfied: langsmith<0.2.0,>=0.1.17 in /usr/local/lib/python3.10/dist-packages (from langchain) (0.1.96)\n",
            "Requirement already satisfied: numpy<2,>=1 in /usr/local/lib/python3.10/dist-packages (from langchain) (1.26.4)\n",
            "Requirement already satisfied: pydantic<3,>=1 in /usr/local/lib/python3.10/dist-packages (from langchain) (2.8.2)\n",
            "Requirement already satisfied: requests<3,>=2 in /usr/local/lib/python3.10/dist-packages (from langchain) (2.31.0)\n",
            "Requirement already satisfied: tenacity!=8.4.0,<9.0.0,>=8.1.0 in /usr/local/lib/python3.10/dist-packages (from langchain) (8.5.0)\n",
            "Requirement already satisfied: aiohappyeyeballs>=2.3.0 in /usr/local/lib/python3.10/dist-packages (from aiohttp<4.0.0,>=3.8.3->langchain) (2.3.4)\n",
            "Requirement already satisfied: aiosignal>=1.1.2 in /usr/local/lib/python3.10/dist-packages (from aiohttp<4.0.0,>=3.8.3->langchain) (1.3.1)\n",
            "Requirement already satisfied: attrs>=17.3.0 in /usr/local/lib/python3.10/dist-packages (from aiohttp<4.0.0,>=3.8.3->langchain) (23.2.0)\n",
            "Requirement already satisfied: frozenlist>=1.1.1 in /usr/local/lib/python3.10/dist-packages (from aiohttp<4.0.0,>=3.8.3->langchain) (1.4.1)\n",
            "Requirement already satisfied: multidict<7.0,>=4.5 in /usr/local/lib/python3.10/dist-packages (from aiohttp<4.0.0,>=3.8.3->langchain) (6.0.5)\n",
            "Requirement already satisfied: yarl<2.0,>=1.0 in /usr/local/lib/python3.10/dist-packages (from aiohttp<4.0.0,>=3.8.3->langchain) (1.9.4)\n",
            "Requirement already satisfied: jsonpatch<2.0,>=1.33 in /usr/local/lib/python3.10/dist-packages (from langchain-core<0.3.0,>=0.2.27->langchain) (1.33)\n",
            "Requirement already satisfied: packaging<25,>=23.2 in /usr/local/lib/python3.10/dist-packages (from langchain-core<0.3.0,>=0.2.27->langchain) (24.1)\n",
            "Requirement already satisfied: typing-extensions>=4.7 in /usr/local/lib/python3.10/dist-packages (from langchain-core<0.3.0,>=0.2.27->langchain) (4.12.2)\n",
            "Requirement already satisfied: orjson<4.0.0,>=3.9.14 in /usr/local/lib/python3.10/dist-packages (from langsmith<0.2.0,>=0.1.17->langchain) (3.10.6)\n",
            "Requirement already satisfied: annotated-types>=0.4.0 in /usr/local/lib/python3.10/dist-packages (from pydantic<3,>=1->langchain) (0.7.0)\n",
            "Requirement already satisfied: pydantic-core==2.20.1 in /usr/local/lib/python3.10/dist-packages (from pydantic<3,>=1->langchain) (2.20.1)\n",
            "Requirement already satisfied: charset-normalizer<4,>=2 in /usr/local/lib/python3.10/dist-packages (from requests<3,>=2->langchain) (3.3.2)\n",
            "Requirement already satisfied: idna<4,>=2.5 in /usr/local/lib/python3.10/dist-packages (from requests<3,>=2->langchain) (3.7)\n",
            "Requirement already satisfied: urllib3<3,>=1.21.1 in /usr/local/lib/python3.10/dist-packages (from requests<3,>=2->langchain) (2.0.7)\n",
            "Requirement already satisfied: certifi>=2017.4.17 in /usr/local/lib/python3.10/dist-packages (from requests<3,>=2->langchain) (2024.7.4)\n",
            "Requirement already satisfied: greenlet!=0.4.17 in /usr/local/lib/python3.10/dist-packages (from SQLAlchemy<3,>=1.4->langchain) (3.0.3)\n",
            "Requirement already satisfied: jsonpointer>=1.9 in /usr/local/lib/python3.10/dist-packages (from jsonpatch<2.0,>=1.33->langchain-core<0.3.0,>=0.2.27->langchain) (3.0.0)\n",
            "Collecting langchain-community\n",
            "  Downloading langchain_community-0.2.11-py3-none-any.whl.metadata (2.7 kB)\n",
            "Requirement already satisfied: langchain-core in /usr/local/lib/python3.10/dist-packages (0.2.28)\n",
            "Requirement already satisfied: PyYAML>=5.3 in /usr/local/lib/python3.10/dist-packages (from langchain-community) (6.0.1)\n",
            "Requirement already satisfied: SQLAlchemy<3,>=1.4 in /usr/local/lib/python3.10/dist-packages (from langchain-community) (2.0.31)\n",
            "Requirement already satisfied: aiohttp<4.0.0,>=3.8.3 in /usr/local/lib/python3.10/dist-packages (from langchain-community) (3.10.0)\n",
            "Collecting dataclasses-json<0.7,>=0.5.7 (from langchain-community)\n",
            "  Downloading dataclasses_json-0.6.7-py3-none-any.whl.metadata (25 kB)\n",
            "Requirement already satisfied: langchain<0.3.0,>=0.2.12 in /usr/local/lib/python3.10/dist-packages (from langchain-community) (0.2.12)\n",
            "Requirement already satisfied: langsmith<0.2.0,>=0.1.0 in /usr/local/lib/python3.10/dist-packages (from langchain-community) (0.1.96)\n",
            "Requirement already satisfied: numpy<2,>=1 in /usr/local/lib/python3.10/dist-packages (from langchain-community) (1.26.4)\n",
            "Requirement already satisfied: requests<3,>=2 in /usr/local/lib/python3.10/dist-packages (from langchain-community) (2.31.0)\n",
            "Requirement already satisfied: tenacity!=8.4.0,<9.0.0,>=8.1.0 in /usr/local/lib/python3.10/dist-packages (from langchain-community) (8.5.0)\n",
            "Requirement already satisfied: jsonpatch<2.0,>=1.33 in /usr/local/lib/python3.10/dist-packages (from langchain-core) (1.33)\n",
            "Requirement already satisfied: packaging<25,>=23.2 in /usr/local/lib/python3.10/dist-packages (from langchain-core) (24.1)\n",
            "Requirement already satisfied: pydantic<3,>=1 in /usr/local/lib/python3.10/dist-packages (from langchain-core) (2.8.2)\n",
            "Requirement already satisfied: typing-extensions>=4.7 in /usr/local/lib/python3.10/dist-packages (from langchain-core) (4.12.2)\n",
            "Requirement already satisfied: aiohappyeyeballs>=2.3.0 in /usr/local/lib/python3.10/dist-packages (from aiohttp<4.0.0,>=3.8.3->langchain-community) (2.3.4)\n",
            "Requirement already satisfied: aiosignal>=1.1.2 in /usr/local/lib/python3.10/dist-packages (from aiohttp<4.0.0,>=3.8.3->langchain-community) (1.3.1)\n",
            "Requirement already satisfied: attrs>=17.3.0 in /usr/local/lib/python3.10/dist-packages (from aiohttp<4.0.0,>=3.8.3->langchain-community) (23.2.0)\n",
            "Requirement already satisfied: frozenlist>=1.1.1 in /usr/local/lib/python3.10/dist-packages (from aiohttp<4.0.0,>=3.8.3->langchain-community) (1.4.1)\n",
            "Requirement already satisfied: multidict<7.0,>=4.5 in /usr/local/lib/python3.10/dist-packages (from aiohttp<4.0.0,>=3.8.3->langchain-community) (6.0.5)\n",
            "Requirement already satisfied: yarl<2.0,>=1.0 in /usr/local/lib/python3.10/dist-packages (from aiohttp<4.0.0,>=3.8.3->langchain-community) (1.9.4)\n",
            "Requirement already satisfied: async-timeout<5.0,>=4.0 in /usr/local/lib/python3.10/dist-packages (from aiohttp<4.0.0,>=3.8.3->langchain-community) (4.0.3)\n",
            "Collecting marshmallow<4.0.0,>=3.18.0 (from dataclasses-json<0.7,>=0.5.7->langchain-community)\n",
            "  Downloading marshmallow-3.21.3-py3-none-any.whl.metadata (7.1 kB)\n",
            "Collecting typing-inspect<1,>=0.4.0 (from dataclasses-json<0.7,>=0.5.7->langchain-community)\n",
            "  Downloading typing_inspect-0.9.0-py3-none-any.whl.metadata (1.5 kB)\n",
            "Requirement already satisfied: jsonpointer>=1.9 in /usr/local/lib/python3.10/dist-packages (from jsonpatch<2.0,>=1.33->langchain-core) (3.0.0)\n",
            "Requirement already satisfied: langchain-text-splitters<0.3.0,>=0.2.0 in /usr/local/lib/python3.10/dist-packages (from langchain<0.3.0,>=0.2.12->langchain-community) (0.2.2)\n",
            "Requirement already satisfied: orjson<4.0.0,>=3.9.14 in /usr/local/lib/python3.10/dist-packages (from langsmith<0.2.0,>=0.1.0->langchain-community) (3.10.6)\n",
            "Requirement already satisfied: annotated-types>=0.4.0 in /usr/local/lib/python3.10/dist-packages (from pydantic<3,>=1->langchain-core) (0.7.0)\n",
            "Requirement already satisfied: pydantic-core==2.20.1 in /usr/local/lib/python3.10/dist-packages (from pydantic<3,>=1->langchain-core) (2.20.1)\n",
            "Requirement already satisfied: charset-normalizer<4,>=2 in /usr/local/lib/python3.10/dist-packages (from requests<3,>=2->langchain-community) (3.3.2)\n",
            "Requirement already satisfied: idna<4,>=2.5 in /usr/local/lib/python3.10/dist-packages (from requests<3,>=2->langchain-community) (3.7)\n",
            "Requirement already satisfied: urllib3<3,>=1.21.1 in /usr/local/lib/python3.10/dist-packages (from requests<3,>=2->langchain-community) (2.0.7)\n",
            "Requirement already satisfied: certifi>=2017.4.17 in /usr/local/lib/python3.10/dist-packages (from requests<3,>=2->langchain-community) (2024.7.4)\n",
            "Requirement already satisfied: greenlet!=0.4.17 in /usr/local/lib/python3.10/dist-packages (from SQLAlchemy<3,>=1.4->langchain-community) (3.0.3)\n",
            "Collecting mypy-extensions>=0.3.0 (from typing-inspect<1,>=0.4.0->dataclasses-json<0.7,>=0.5.7->langchain-community)\n",
            "  Downloading mypy_extensions-1.0.0-py3-none-any.whl.metadata (1.1 kB)\n",
            "Downloading langchain_community-0.2.11-py3-none-any.whl (2.3 MB)\n",
            "\u001b[2K   \u001b[90m━━━━━━━━━━━━━━━━━━━━━━━━━━━━━━━━━━━━━━━━\u001b[0m \u001b[32m2.3/2.3 MB\u001b[0m \u001b[31m56.6 MB/s\u001b[0m eta \u001b[36m0:00:00\u001b[0m\n",
            "\u001b[?25hDownloading dataclasses_json-0.6.7-py3-none-any.whl (28 kB)\n",
            "Downloading marshmallow-3.21.3-py3-none-any.whl (49 kB)\n",
            "\u001b[2K   \u001b[90m━━━━━━━━━━━━━━━━━━━━━━━━━━━━━━━━━━━━━━━━\u001b[0m \u001b[32m49.2/49.2 kB\u001b[0m \u001b[31m3.5 MB/s\u001b[0m eta \u001b[36m0:00:00\u001b[0m\n",
            "\u001b[?25hDownloading typing_inspect-0.9.0-py3-none-any.whl (8.8 kB)\n",
            "Downloading mypy_extensions-1.0.0-py3-none-any.whl (4.7 kB)\n",
            "Installing collected packages: mypy-extensions, marshmallow, typing-inspect, dataclasses-json, langchain-community\n",
            "Successfully installed dataclasses-json-0.6.7 langchain-community-0.2.11 marshmallow-3.21.3 mypy-extensions-1.0.0 typing-inspect-0.9.0\n"
          ]
        }
      ],
      "source": [
        "!pip install openai\n",
        "!pip install langchain\n",
        "!pip install langchain-community langchain-core\n"
      ]
    },
    {
      "cell_type": "code",
      "source": [
        "# os의 환경변수에 키값 저장\n",
        "import os\n",
        "\n",
        "os.environ[\"OPENAI_API_KEY\"] = '64650e80fc9f42d28849c6a5f601d832'\n",
        "os.environ[\"OPENAI_API_TYPE\"] = 'azure'\n",
        "os.environ[\"OPENAI_API_VERSION\"] = '2023-05-15'\n",
        "os.environ[\"AZURE_OPENAI_ENDPOINT\"] = 'https://sktflyai.openai.azure.com/'"
      ],
      "metadata": {
        "id": "1A6OWFvQI5tI"
      },
      "execution_count": 8,
      "outputs": []
    },
    {
      "cell_type": "code",
      "source": [
        "from langchain.llms import AzureOpenAI # llms에 완성형 언어모델의 래퍼클래스가 들어있음\n",
        "\n",
        "llm = AzureOpenAI(deployment_name='dev-gpt-35-turbo-instruct')\n",
        "llm.invoke('Why python is the most popular language? answer the Korean')"
      ],
      "metadata": {
        "colab": {
          "base_uri": "https://localhost:8080/",
          "height": 54
        },
        "id": "sCtDb3POKpZw",
        "outputId": "bceb5980-4636-400a-c8fe-6ce1850fbfb3"
      },
      "execution_count": 10,
      "outputs": [
        {
          "output_type": "execute_result",
          "data": {
            "text/plain": [
              "'\\n\\n파이썬은 다양한 분야에서 사용할 수 있고 배우기 쉽고 간결한 문법으로 인해 많은 사람들이 선택하는 언어입니다. 또한 라이브러리와 프레임워크가 풍부하며 데이터 분석, 인공지능, 웹 개발 등 다양한 분야에서 활용이 가능하다는 점이 인기를 끌고 있습니다. 또한 오픈 소스로 개발되어 있어 무료로 이용할 수 있고 커뮤니티가 활발하게 운영되어 도움을 받기 쉬운 점도 인기를 높이는 요인입니다.'"
            ],
            "application/vnd.google.colaboratory.intrinsic+json": {
              "type": "string"
            }
          },
          "metadata": {},
          "execution_count": 10
        }
      ]
    },
    {
      "cell_type": "code",
      "source": [
        "from langchain.chat_models import AzureChatOpenAI\n",
        "\n",
        "chat = AzureChatOpenAI(deployment_name='dev-gpt-35-turbo')\n",
        "chat.invoke('Why python is the most popular language? Answer the Korean')"
      ],
      "metadata": {
        "colab": {
          "base_uri": "https://localhost:8080/"
        },
        "id": "i4T0I1j7LyO8",
        "outputId": "69ad6cc5-6eba-4842-f562-29d8508bbaac"
      },
      "execution_count": 12,
      "outputs": [
        {
          "output_type": "execute_result",
          "data": {
            "text/plain": [
              "AIMessage(content='파이썬은 다양한 이유로 인해 가장 인기 있는 프로그래밍 언어 중 하나입니다.\\n\\n1. 쉬운 학습 곡선: 파이썬은 간결하고 읽기 쉬운 문법을 가지고 있어 초보자도 쉽게 배울 수 있습니다. 이는 프로그래밍을 처음 접하는 사람들에게 큰 장점이 됩니다.\\n\\n2. 다양한 용도로 사용 가능: 파이썬은 웹 개발, 데이터 분석, 인공 지능 및 기계 학습, 과학 및 수치 계산, 자동화 스크립트 작성 등 다양한 분야에서 사용됩니다. 이는 파이썬을 유연하고 다목적으로 활용할 수 있는 능력을 의미합니다.\\n\\n3. 큰 커뮤니티: 파이썬은 전 세계적으로 큰 커뮤니티를 가지고 있습니다. 이는 많은 사용자들이 서로 도움을 주고 받을 수 있으며, 다양한 라이브러리와 패키지를 공유하여 개발 속도를 높일 수 있습니다.\\n\\n4. 풍부한 라이브러리: 파이썬은 다양한 라이브러리와 패키지를 가지고 있어 개발을 빠르고 효율적으로 할 수 있습니다. 데이터 분석을 위한 Pandas, NumPy와 같은 라이브러리, 웹 개발을 위한 Django, Flask와 같은 프레임워크 등이 많이 사용됩니다.\\n\\n5. 크로스 플랫폼 지원: 파이썬은 Windows, macOS, Linux 등 다양한 운영체제에서 사용할 수 있습니다. 이는 개발자들에게 플랫폼 제한 없이 작업할 수 있는 자유를 제공합니다.\\n\\n이러한 이유로 인해 파이썬은 많은 개발자들에게 인기를 끌고 있으며, 빠르게 성장하고 있는 프로그래밍 언어 중 하나입니다.', response_metadata={'token_usage': {'completion_tokens': 606, 'prompt_tokens': 18, 'total_tokens': 624}, 'model_name': 'gpt-35-turbo', 'system_fingerprint': None, 'finish_reason': 'stop', 'logprobs': None}, id='run-f2c6dcc5-6479-4cc1-8f16-08c208c5fa08-0')"
            ]
          },
          "metadata": {},
          "execution_count": 12
        }
      ]
    },
    {
      "cell_type": "code",
      "source": [
        "chat = AzureChatOpenAI(deployment_name='dev-gpt-35-turbo',temperature=1,max_tokens=500) # 더 창의적인 답변 생성 # 한번 대화의 토큰수 지정\n",
        "chat.invoke('Why python is the most popular language? Answer the Korean')"
      ],
      "metadata": {
        "colab": {
          "base_uri": "https://localhost:8080/"
        },
        "id": "ImBMjoD6TwAj",
        "outputId": "b99c2ae8-9df6-4da2-d5f9-af42069f2272"
      },
      "execution_count": 18,
      "outputs": [
        {
          "output_type": "execute_result",
          "data": {
            "text/plain": [
              "AIMessage(content='파이썬은 현재 가장 인기 있는 프로그래밍 언어 중 하나입니다. 그 이유는 여러 가지가 있습니다.\\n\\n첫째, 파이썬은 beginner-friendly한 언어입니다. 문법이 간단하고 읽고 쓰기 쉽기 때문에 초보자들도 쉽게 배울 수 있습니다. 이로 인해 프로그래밍을 처음 접하는 사람들이 파이썬을 선택하는 경우가 많습니다.\\n\\n둘째, 파이썬은 다양한 용도로 사용할 수 있습니다. 웹 개발, 데이터 분석, 인공지능, 자동화 등 다양한 분야에서 파이썬을 활용할 수 있습니다. 이러한 다양성으로 인해 다양한 개발자들이 파이썬을 사용하고 있습니다.\\n\\n셋째, 파이썬은 개발 생산성이 높은 언어입니다. 파이썬은 읽기 쉬운 코드를 작성하는 것을 장려하며, 다양한 라이브러리와 도구로 인해 개발 속도를 높일 수 있습니다. 이는 개발자들이 빠르게 프로젝트를 개발할 수 있게 만들어주고 있습니다.\\n\\n넷째, 파이썬은 커뮤니티가 활발한 언어입니다. 파이썬의 사용자들은 많은 오픈 소스 프로젝트를 공유하고 지원하기 때문에 다른 사람들과 지식을 공유하고 협업하기 쉽습니다. 또한 문제를 해결하는 다양한 방법과 학습 자료를 찾기 쉽기 때문에 파이썬을 사용하는 개발자들은 서로 지원', response_metadata={'token_usage': {'completion_tokens': 500, 'prompt_tokens': 18, 'total_tokens': 518}, 'model_name': 'gpt-35-turbo', 'system_fingerprint': None, 'finish_reason': 'length', 'logprobs': None}, id='run-50c64302-17eb-4401-815c-2a9f201f0ce9-0')"
            ]
          },
          "metadata": {},
          "execution_count": 18
        }
      ]
    },
    {
      "cell_type": "code",
      "source": [
        "# 스트리밍 방식으로 출력하기\n",
        "from langchain.callbacks.streaming_stdout import StreamingStdOutCallbackHandler  # callback 처리\n",
        "\n",
        "chat = AzureChatOpenAI(deployment_name='dev-gpt-35-turbo',\n",
        "                       streaming=True, # streaming 지원\n",
        "                       callbacks=[StreamingStdOutCallbackHandler()]) #날아오는 streaming callback\n",
        "chat.invoke('Why python is the most popular language? Answer the Korean')\n",
        "\n",
        "\n"
      ],
      "metadata": {
        "colab": {
          "base_uri": "https://localhost:8080/"
        },
        "id": "tzwRP-15UNdi",
        "outputId": "ebe8b005-ea01-46e6-e54b-970664622b0b"
      },
      "execution_count": 19,
      "outputs": [
        {
          "output_type": "stream",
          "name": "stdout",
          "text": [
            "파이썬은 현재 가장 인기 있는 프로그래밍 언어로 알려져 있습니다. 이는 여러 가지 이유로 설명될 수 있습니다.\n",
            "\n",
            "첫째, 파이썬은 배우기 쉽고 읽기 쉬운 문법을 가지고 있어 초보자에게 적합합니다. 파이썬은 간결하고 명확한 문법을 갖추고 있으며, 다른 프로그래밍 언어와 비교하여 상대적으로 적은 코드로 작성할 수 있습니다. 이는 개발자들이 프로그램을 빠르게 작성하고 디버깅하는 데 도움이 됩니다.\n",
            "\n",
            "둘째, 파이썬은 다양한 분야에서 사용될 수 있는 범용 프로그래밍 언어입니다. 데이터 분석, 인공지능, 웹 개발, 자동화 등 다양한 분야에서 활용되며, 강력한 라이브러리와 프레임워크가 많이 개발되어 있습니다. 이는 파이썬을 선택하는 개발자들에게 큰 유연성과 편의성을 제공합니다.\n",
            "\n",
            "셋째, 파이썬은 커뮤니티와 생태계가 활발하게 발전하고 있는 언어입니다. 파이썬 개발자들은 다양한 온라인 커뮤니티와 포럼에서 지원을 받을 수 있으며, 많은 개발 도구와 패키지가 개발되어 있습니다. 이러한 커뮤니티의 지원은 파이썬을 사용하는 개발자들에게 큰 도움이 됩니다.\n",
            "\n",
            "마지막으로, 파이썬은 대중적인 언어로서의 인기도가 매우 높습니다. 많은 대학과 학원에서 파이썬을 가르치고 있으며, 기업들도 파이썬을 채용하는 경향이 높아지고 있습니다. 이는 파이썬을 사용하면 취업 기회를 높일 수 있으며, 프로그래밍을 처음 시작하는 사람들에게도 많은 도움이 됩니다.\n",
            "\n",
            "이러한 이유들로 인해 파이썬은 현재 가장 인기 있는 프로그래밍 언어 중 하나로 인정받고 있습니다."
          ]
        },
        {
          "output_type": "execute_result",
          "data": {
            "text/plain": [
              "AIMessage(content='파이썬은 현재 가장 인기 있는 프로그래밍 언어로 알려져 있습니다. 이는 여러 가지 이유로 설명될 수 있습니다.\\n\\n첫째, 파이썬은 배우기 쉽고 읽기 쉬운 문법을 가지고 있어 초보자에게 적합합니다. 파이썬은 간결하고 명확한 문법을 갖추고 있으며, 다른 프로그래밍 언어와 비교하여 상대적으로 적은 코드로 작성할 수 있습니다. 이는 개발자들이 프로그램을 빠르게 작성하고 디버깅하는 데 도움이 됩니다.\\n\\n둘째, 파이썬은 다양한 분야에서 사용될 수 있는 범용 프로그래밍 언어입니다. 데이터 분석, 인공지능, 웹 개발, 자동화 등 다양한 분야에서 활용되며, 강력한 라이브러리와 프레임워크가 많이 개발되어 있습니다. 이는 파이썬을 선택하는 개발자들에게 큰 유연성과 편의성을 제공합니다.\\n\\n셋째, 파이썬은 커뮤니티와 생태계가 활발하게 발전하고 있는 언어입니다. 파이썬 개발자들은 다양한 온라인 커뮤니티와 포럼에서 지원을 받을 수 있으며, 많은 개발 도구와 패키지가 개발되어 있습니다. 이러한 커뮤니티의 지원은 파이썬을 사용하는 개발자들에게 큰 도움이 됩니다.\\n\\n마지막으로, 파이썬은 대중적인 언어로서의 인기도가 매우 높습니다. 많은 대학과 학원에서 파이썬을 가르치고 있으며, 기업들도 파이썬을 채용하는 경향이 높아지고 있습니다. 이는 파이썬을 사용하면 취업 기회를 높일 수 있으며, 프로그래밍을 처음 시작하는 사람들에게도 많은 도움이 됩니다.\\n\\n이러한 이유들로 인해 파이썬은 현재 가장 인기 있는 프로그래밍 언어 중 하나로 인정받고 있습니다.', response_metadata={'finish_reason': 'stop'}, id='run-4b8ea1f3-453b-45a2-9701-60eb6f28715e-0')"
            ]
          },
          "metadata": {},
          "execution_count": 19
        }
      ]
    },
    {
      "cell_type": "markdown",
      "source": [
        "message 다루기"
      ],
      "metadata": {
        "id": "3X3vaONxW3af"
      }
    },
    {
      "cell_type": "code",
      "source": [
        "from langchain.schema import SystemMessage, HumanMessage\n",
        "message=[\n",
        "    SystemMessage(content='You are a helpful assistant the translates English to Korean'), # system message 정의\n",
        "    HumanMessage(content='I love korea')\n",
        "]\n",
        "\n",
        "answer=chat.invoke(message)"
      ],
      "metadata": {
        "colab": {
          "base_uri": "https://localhost:8080/"
        },
        "id": "2Sh_etsAVz21",
        "outputId": "0e36480d-2137-4281-bc9c-931efc9c54c8"
      },
      "execution_count": 21,
      "outputs": [
        {
          "output_type": "stream",
          "name": "stdout",
          "text": [
            "나는 한국을 사랑해요."
          ]
        }
      ]
    },
    {
      "cell_type": "code",
      "source": [
        "from langchain.schema import SystemMessage, HumanMessage\n",
        "message=[\n",
        "    SystemMessage(content='당신은 공부 계획을 세워주는 스터디 플래너이다. 주제를 입력 받으면 공부 계획을 세워줘'), # system message 정의\n",
        "    HumanMessage(content='Large Language Model에 대해서 공부하고 싶어요')\n",
        "]\n",
        "\n",
        "answer=chat.invoke(message)"
      ],
      "metadata": {
        "colab": {
          "base_uri": "https://localhost:8080/"
        },
        "id": "_NESuIE4XmdF",
        "outputId": "dea43e98-dec4-4d0c-ed73-4b9293271131"
      },
      "execution_count": 23,
      "outputs": [
        {
          "output_type": "stream",
          "name": "stdout",
          "text": [
            "Large Language Model에 대해 공부하는 계획을 세워드리겠습니다.\n",
            "\n",
            "1. 개요 파악하기:\n",
            "   - Large Language Model이란 무엇인지 개념을 이해합니다.\n",
            "   - 대표적인 Large Language Model인 GPT-3, BERT 등에 대해 알아봅니다.\n",
            "   - Large Language Model의 주요 기능과 활용 분야를 조사합니다.\n",
            "\n",
            "2. 작동 원리 이해하기:\n",
            "   - Large Language Model의 구조와 작동 원리에 대해 학습합니다.\n",
            "   - Pre-training과 Fine-tuning 단계의 차이점을 이해합니다.\n",
            "   - Transfer Learning의 개념과 Large Language Model에서의 적용 방법을 학습합니다.\n",
            "\n",
            "3. 주요 기술과 모델 분석:\n",
            "   - GPT-3, BERT 등 Large Language Model의 주요 아키텍처와 기술을 분석합니다.\n",
            "   - Self-attention, Transformer 등의 핵심 요소에 대해 자세히 공부합니다.\n",
            "   - 모델의 크기, 학습 데이터 등이 모델의 성능에 어떤 영향을 미치는지 알아봅니다.\n",
            "\n",
            "4. 응용 사례 및 실습:\n",
            "   - Large Language Model이 다양한 자연어 처리(Natural Language Processing) 과제에서 어떻게 활용되는지 탐구합니다.\n",
            "   - 실제 응용 사례를 찾아보고, 해당 모델을 활용한 실습을 진행합니다.\n",
            "   - 관련된 프로젝트나 대회에 참여하여 실전 경험을 쌓습니다.\n",
            "\n",
            "5. 최신 동향과 연구:\n",
            "   - Large Language Model 분야의 최신 연구 동향을 살펴봅니다.\n",
            "   - 관련 논문이나 기술 블로그, 책 등을 참고하여 최신 정보를 습득합니다.\n",
            "   - 관심 있는 연구 주제에 대해 깊이 있는 학습을 진행하고, 본인의 아이디어를 발전시킬 수 있는 방안을 모색합니다.\n",
            "\n",
            "위의 계획을 참고하여 Large Language Model에 대한 공부 계획을 세우시면 됩니다. 세부적인 스케줄링과 학습 자료 확보는 본인의 학습 스타일과 목표에 맞게 조정해 주세요."
          ]
        }
      ]
    },
    {
      "cell_type": "code",
      "source": [],
      "metadata": {
        "id": "vNm0I_mZYUAu"
      },
      "execution_count": null,
      "outputs": []
    }
  ]
}